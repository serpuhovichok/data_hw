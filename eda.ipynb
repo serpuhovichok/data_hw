{
  "nbformat": 4,
  "nbformat_minor": 0,
  "metadata": {
    "colab": {
      "provenance": []
    },
    "kernelspec": {
      "name": "python3",
      "display_name": "Python 3"
    },
    "language_info": {
      "name": "python"
    }
  },
  "cells": [
    {
      "cell_type": "code",
      "execution_count": 19,
      "metadata": {
        "id": "rF8BRyi4nl73"
      },
      "outputs": [],
      "source": [
        "import pandas as pd\n",
        "import matplotlib.pyplot as plt\n",
        "from typing import List, Dict\n",
        "import sqlite3\n",
        "import seaborn as sns"
      ]
    },
    {
      "cell_type": "code",
      "source": [
        "connection = sqlite3.connect('air_disasters.db')\n",
        "df = pd.read_sql_query(\"SELECT * FROM disasters\", connection)\n",
        "df"
      ],
      "metadata": {
        "colab": {
          "base_uri": "https://localhost:8080/",
          "height": 597
        },
        "id": "YGccn6qmnzfB",
        "outputId": "546ce5a6-d0ef-4465-e01c-8b23e003d2f7"
      },
      "execution_count": 20,
      "outputs": [
        {
          "output_type": "execute_result",
          "data": {
            "text/plain": [
              "        id        date                 aircraft registration_number  \\\n",
              "0        1  25.12.2024        Embraer ERJ-190AR             4K-AZ65   \n",
              "1        2  19.12.2024                     Ан-2            RA-33555   \n",
              "2        3  10.12.2024                     Ан-2            RA-40418   \n",
              "3        4  24.11.2024  Сухой SuperJet 100-95LR            RA-89085   \n",
              "4        5  27.10.2024                     Ан-2            RA-33623   \n",
              "...    ...         ...                      ...                 ...   \n",
              "4810  4811  27.01.1932                      У-2                   -   \n",
              "4811  4812  25.06.1931                      У-1            СССР-313   \n",
              "4812  4813  18.01.1930                      К-4            СССР-225   \n",
              "4813  4814  27.10.1929              Fokker C.IV            СССР-150   \n",
              "4814  4815  12.09.1929           Dornier Merkur            СССР-211   \n",
              "\n",
              "        country                                           location  \\\n",
              "0     Казахстан                 Мангистауская область, район Актау   \n",
              "1        Россия  Камчатский край, Усть-Камчатский МО, район г. ...   \n",
              "2        Россия  Тюменская область, ЯНАО, Ямальский район, райо...   \n",
              "3        Турция                                        а/п Анталья   \n",
              "4        Россия            Ставропольский край, район г. Ессентуки   \n",
              "...         ...                                                ...   \n",
              "4810       СССР  Центрально-Чернозёмная область, 500 м от а/д №...   \n",
              "4811       СССР              Московская область, район села Тушино   \n",
              "4812       СССР                          Азербайджанская ССР, Баку   \n",
              "4813       СССР  Западно-Сибирский край, Яшкинский район, перег...   \n",
              "4814       СССР                                 ССР Абхазия, Сухум   \n",
              "\n",
              "                                                  link  \n",
              "0     https://www.airdisaster.ru//database.php?id=4836  \n",
              "1     https://www.airdisaster.ru//database.php?id=4835  \n",
              "2     https://www.airdisaster.ru//database.php?id=4834  \n",
              "3     https://www.airdisaster.ru//database.php?id=4833  \n",
              "4     https://www.airdisaster.ru//database.php?id=4816  \n",
              "...                                                ...  \n",
              "4810  https://www.airdisaster.ru//database.php?id=3278  \n",
              "4811  https://www.airdisaster.ru//database.php?id=3310  \n",
              "4812  https://www.airdisaster.ru//database.php?id=3566  \n",
              "4813  https://www.airdisaster.ru//database.php?id=3282  \n",
              "4814  https://www.airdisaster.ru//database.php?id=3565  \n",
              "\n",
              "[4815 rows x 7 columns]"
            ],
            "text/html": [
              "\n",
              "  <div id=\"df-18f6b06c-adf6-414f-a982-f7820effd675\" class=\"colab-df-container\">\n",
              "    <div>\n",
              "<style scoped>\n",
              "    .dataframe tbody tr th:only-of-type {\n",
              "        vertical-align: middle;\n",
              "    }\n",
              "\n",
              "    .dataframe tbody tr th {\n",
              "        vertical-align: top;\n",
              "    }\n",
              "\n",
              "    .dataframe thead th {\n",
              "        text-align: right;\n",
              "    }\n",
              "</style>\n",
              "<table border=\"1\" class=\"dataframe\">\n",
              "  <thead>\n",
              "    <tr style=\"text-align: right;\">\n",
              "      <th></th>\n",
              "      <th>id</th>\n",
              "      <th>date</th>\n",
              "      <th>aircraft</th>\n",
              "      <th>registration_number</th>\n",
              "      <th>country</th>\n",
              "      <th>location</th>\n",
              "      <th>link</th>\n",
              "    </tr>\n",
              "  </thead>\n",
              "  <tbody>\n",
              "    <tr>\n",
              "      <th>0</th>\n",
              "      <td>1</td>\n",
              "      <td>25.12.2024</td>\n",
              "      <td>Embraer ERJ-190AR</td>\n",
              "      <td>4K-AZ65</td>\n",
              "      <td>Казахстан</td>\n",
              "      <td>Мангистауская область, район Актау</td>\n",
              "      <td>https://www.airdisaster.ru//database.php?id=4836</td>\n",
              "    </tr>\n",
              "    <tr>\n",
              "      <th>1</th>\n",
              "      <td>2</td>\n",
              "      <td>19.12.2024</td>\n",
              "      <td>Ан-2</td>\n",
              "      <td>RA-33555</td>\n",
              "      <td>Россия</td>\n",
              "      <td>Камчатский край, Усть-Камчатский МО, район г. ...</td>\n",
              "      <td>https://www.airdisaster.ru//database.php?id=4835</td>\n",
              "    </tr>\n",
              "    <tr>\n",
              "      <th>2</th>\n",
              "      <td>3</td>\n",
              "      <td>10.12.2024</td>\n",
              "      <td>Ан-2</td>\n",
              "      <td>RA-40418</td>\n",
              "      <td>Россия</td>\n",
              "      <td>Тюменская область, ЯНАО, Ямальский район, райо...</td>\n",
              "      <td>https://www.airdisaster.ru//database.php?id=4834</td>\n",
              "    </tr>\n",
              "    <tr>\n",
              "      <th>3</th>\n",
              "      <td>4</td>\n",
              "      <td>24.11.2024</td>\n",
              "      <td>Сухой SuperJet 100-95LR</td>\n",
              "      <td>RA-89085</td>\n",
              "      <td>Турция</td>\n",
              "      <td>а/п Анталья</td>\n",
              "      <td>https://www.airdisaster.ru//database.php?id=4833</td>\n",
              "    </tr>\n",
              "    <tr>\n",
              "      <th>4</th>\n",
              "      <td>5</td>\n",
              "      <td>27.10.2024</td>\n",
              "      <td>Ан-2</td>\n",
              "      <td>RA-33623</td>\n",
              "      <td>Россия</td>\n",
              "      <td>Ставропольский край, район г. Ессентуки</td>\n",
              "      <td>https://www.airdisaster.ru//database.php?id=4816</td>\n",
              "    </tr>\n",
              "    <tr>\n",
              "      <th>...</th>\n",
              "      <td>...</td>\n",
              "      <td>...</td>\n",
              "      <td>...</td>\n",
              "      <td>...</td>\n",
              "      <td>...</td>\n",
              "      <td>...</td>\n",
              "      <td>...</td>\n",
              "    </tr>\n",
              "    <tr>\n",
              "      <th>4810</th>\n",
              "      <td>4811</td>\n",
              "      <td>27.01.1932</td>\n",
              "      <td>У-2</td>\n",
              "      <td>-</td>\n",
              "      <td>СССР</td>\n",
              "      <td>Центрально-Чернозёмная область, 500 м от а/д №...</td>\n",
              "      <td>https://www.airdisaster.ru//database.php?id=3278</td>\n",
              "    </tr>\n",
              "    <tr>\n",
              "      <th>4811</th>\n",
              "      <td>4812</td>\n",
              "      <td>25.06.1931</td>\n",
              "      <td>У-1</td>\n",
              "      <td>СССР-313</td>\n",
              "      <td>СССР</td>\n",
              "      <td>Московская область, район села Тушино</td>\n",
              "      <td>https://www.airdisaster.ru//database.php?id=3310</td>\n",
              "    </tr>\n",
              "    <tr>\n",
              "      <th>4812</th>\n",
              "      <td>4813</td>\n",
              "      <td>18.01.1930</td>\n",
              "      <td>К-4</td>\n",
              "      <td>СССР-225</td>\n",
              "      <td>СССР</td>\n",
              "      <td>Азербайджанская ССР, Баку</td>\n",
              "      <td>https://www.airdisaster.ru//database.php?id=3566</td>\n",
              "    </tr>\n",
              "    <tr>\n",
              "      <th>4813</th>\n",
              "      <td>4814</td>\n",
              "      <td>27.10.1929</td>\n",
              "      <td>Fokker C.IV</td>\n",
              "      <td>СССР-150</td>\n",
              "      <td>СССР</td>\n",
              "      <td>Западно-Сибирский край, Яшкинский район, перег...</td>\n",
              "      <td>https://www.airdisaster.ru//database.php?id=3282</td>\n",
              "    </tr>\n",
              "    <tr>\n",
              "      <th>4814</th>\n",
              "      <td>4815</td>\n",
              "      <td>12.09.1929</td>\n",
              "      <td>Dornier Merkur</td>\n",
              "      <td>СССР-211</td>\n",
              "      <td>СССР</td>\n",
              "      <td>ССР Абхазия, Сухум</td>\n",
              "      <td>https://www.airdisaster.ru//database.php?id=3565</td>\n",
              "    </tr>\n",
              "  </tbody>\n",
              "</table>\n",
              "<p>4815 rows × 7 columns</p>\n",
              "</div>\n",
              "    <div class=\"colab-df-buttons\">\n",
              "\n",
              "  <div class=\"colab-df-container\">\n",
              "    <button class=\"colab-df-convert\" onclick=\"convertToInteractive('df-18f6b06c-adf6-414f-a982-f7820effd675')\"\n",
              "            title=\"Convert this dataframe to an interactive table.\"\n",
              "            style=\"display:none;\">\n",
              "\n",
              "  <svg xmlns=\"http://www.w3.org/2000/svg\" height=\"24px\" viewBox=\"0 -960 960 960\">\n",
              "    <path d=\"M120-120v-720h720v720H120Zm60-500h600v-160H180v160Zm220 220h160v-160H400v160Zm0 220h160v-160H400v160ZM180-400h160v-160H180v160Zm440 0h160v-160H620v160ZM180-180h160v-160H180v160Zm440 0h160v-160H620v160Z\"/>\n",
              "  </svg>\n",
              "    </button>\n",
              "\n",
              "  <style>\n",
              "    .colab-df-container {\n",
              "      display:flex;\n",
              "      gap: 12px;\n",
              "    }\n",
              "\n",
              "    .colab-df-convert {\n",
              "      background-color: #E8F0FE;\n",
              "      border: none;\n",
              "      border-radius: 50%;\n",
              "      cursor: pointer;\n",
              "      display: none;\n",
              "      fill: #1967D2;\n",
              "      height: 32px;\n",
              "      padding: 0 0 0 0;\n",
              "      width: 32px;\n",
              "    }\n",
              "\n",
              "    .colab-df-convert:hover {\n",
              "      background-color: #E2EBFA;\n",
              "      box-shadow: 0px 1px 2px rgba(60, 64, 67, 0.3), 0px 1px 3px 1px rgba(60, 64, 67, 0.15);\n",
              "      fill: #174EA6;\n",
              "    }\n",
              "\n",
              "    .colab-df-buttons div {\n",
              "      margin-bottom: 4px;\n",
              "    }\n",
              "\n",
              "    [theme=dark] .colab-df-convert {\n",
              "      background-color: #3B4455;\n",
              "      fill: #D2E3FC;\n",
              "    }\n",
              "\n",
              "    [theme=dark] .colab-df-convert:hover {\n",
              "      background-color: #434B5C;\n",
              "      box-shadow: 0px 1px 3px 1px rgba(0, 0, 0, 0.15);\n",
              "      filter: drop-shadow(0px 1px 2px rgba(0, 0, 0, 0.3));\n",
              "      fill: #FFFFFF;\n",
              "    }\n",
              "  </style>\n",
              "\n",
              "    <script>\n",
              "      const buttonEl =\n",
              "        document.querySelector('#df-18f6b06c-adf6-414f-a982-f7820effd675 button.colab-df-convert');\n",
              "      buttonEl.style.display =\n",
              "        google.colab.kernel.accessAllowed ? 'block' : 'none';\n",
              "\n",
              "      async function convertToInteractive(key) {\n",
              "        const element = document.querySelector('#df-18f6b06c-adf6-414f-a982-f7820effd675');\n",
              "        const dataTable =\n",
              "          await google.colab.kernel.invokeFunction('convertToInteractive',\n",
              "                                                    [key], {});\n",
              "        if (!dataTable) return;\n",
              "\n",
              "        const docLinkHtml = 'Like what you see? Visit the ' +\n",
              "          '<a target=\"_blank\" href=https://colab.research.google.com/notebooks/data_table.ipynb>data table notebook</a>'\n",
              "          + ' to learn more about interactive tables.';\n",
              "        element.innerHTML = '';\n",
              "        dataTable['output_type'] = 'display_data';\n",
              "        await google.colab.output.renderOutput(dataTable, element);\n",
              "        const docLink = document.createElement('div');\n",
              "        docLink.innerHTML = docLinkHtml;\n",
              "        element.appendChild(docLink);\n",
              "      }\n",
              "    </script>\n",
              "  </div>\n",
              "\n",
              "\n",
              "<div id=\"df-2809b3a2-2118-471f-ae73-6f89410a65a6\">\n",
              "  <button class=\"colab-df-quickchart\" onclick=\"quickchart('df-2809b3a2-2118-471f-ae73-6f89410a65a6')\"\n",
              "            title=\"Suggest charts\"\n",
              "            style=\"display:none;\">\n",
              "\n",
              "<svg xmlns=\"http://www.w3.org/2000/svg\" height=\"24px\"viewBox=\"0 0 24 24\"\n",
              "     width=\"24px\">\n",
              "    <g>\n",
              "        <path d=\"M19 3H5c-1.1 0-2 .9-2 2v14c0 1.1.9 2 2 2h14c1.1 0 2-.9 2-2V5c0-1.1-.9-2-2-2zM9 17H7v-7h2v7zm4 0h-2V7h2v10zm4 0h-2v-4h2v4z\"/>\n",
              "    </g>\n",
              "</svg>\n",
              "  </button>\n",
              "\n",
              "<style>\n",
              "  .colab-df-quickchart {\n",
              "      --bg-color: #E8F0FE;\n",
              "      --fill-color: #1967D2;\n",
              "      --hover-bg-color: #E2EBFA;\n",
              "      --hover-fill-color: #174EA6;\n",
              "      --disabled-fill-color: #AAA;\n",
              "      --disabled-bg-color: #DDD;\n",
              "  }\n",
              "\n",
              "  [theme=dark] .colab-df-quickchart {\n",
              "      --bg-color: #3B4455;\n",
              "      --fill-color: #D2E3FC;\n",
              "      --hover-bg-color: #434B5C;\n",
              "      --hover-fill-color: #FFFFFF;\n",
              "      --disabled-bg-color: #3B4455;\n",
              "      --disabled-fill-color: #666;\n",
              "  }\n",
              "\n",
              "  .colab-df-quickchart {\n",
              "    background-color: var(--bg-color);\n",
              "    border: none;\n",
              "    border-radius: 50%;\n",
              "    cursor: pointer;\n",
              "    display: none;\n",
              "    fill: var(--fill-color);\n",
              "    height: 32px;\n",
              "    padding: 0;\n",
              "    width: 32px;\n",
              "  }\n",
              "\n",
              "  .colab-df-quickchart:hover {\n",
              "    background-color: var(--hover-bg-color);\n",
              "    box-shadow: 0 1px 2px rgba(60, 64, 67, 0.3), 0 1px 3px 1px rgba(60, 64, 67, 0.15);\n",
              "    fill: var(--button-hover-fill-color);\n",
              "  }\n",
              "\n",
              "  .colab-df-quickchart-complete:disabled,\n",
              "  .colab-df-quickchart-complete:disabled:hover {\n",
              "    background-color: var(--disabled-bg-color);\n",
              "    fill: var(--disabled-fill-color);\n",
              "    box-shadow: none;\n",
              "  }\n",
              "\n",
              "  .colab-df-spinner {\n",
              "    border: 2px solid var(--fill-color);\n",
              "    border-color: transparent;\n",
              "    border-bottom-color: var(--fill-color);\n",
              "    animation:\n",
              "      spin 1s steps(1) infinite;\n",
              "  }\n",
              "\n",
              "  @keyframes spin {\n",
              "    0% {\n",
              "      border-color: transparent;\n",
              "      border-bottom-color: var(--fill-color);\n",
              "      border-left-color: var(--fill-color);\n",
              "    }\n",
              "    20% {\n",
              "      border-color: transparent;\n",
              "      border-left-color: var(--fill-color);\n",
              "      border-top-color: var(--fill-color);\n",
              "    }\n",
              "    30% {\n",
              "      border-color: transparent;\n",
              "      border-left-color: var(--fill-color);\n",
              "      border-top-color: var(--fill-color);\n",
              "      border-right-color: var(--fill-color);\n",
              "    }\n",
              "    40% {\n",
              "      border-color: transparent;\n",
              "      border-right-color: var(--fill-color);\n",
              "      border-top-color: var(--fill-color);\n",
              "    }\n",
              "    60% {\n",
              "      border-color: transparent;\n",
              "      border-right-color: var(--fill-color);\n",
              "    }\n",
              "    80% {\n",
              "      border-color: transparent;\n",
              "      border-right-color: var(--fill-color);\n",
              "      border-bottom-color: var(--fill-color);\n",
              "    }\n",
              "    90% {\n",
              "      border-color: transparent;\n",
              "      border-bottom-color: var(--fill-color);\n",
              "    }\n",
              "  }\n",
              "</style>\n",
              "\n",
              "  <script>\n",
              "    async function quickchart(key) {\n",
              "      const quickchartButtonEl =\n",
              "        document.querySelector('#' + key + ' button');\n",
              "      quickchartButtonEl.disabled = true;  // To prevent multiple clicks.\n",
              "      quickchartButtonEl.classList.add('colab-df-spinner');\n",
              "      try {\n",
              "        const charts = await google.colab.kernel.invokeFunction(\n",
              "            'suggestCharts', [key], {});\n",
              "      } catch (error) {\n",
              "        console.error('Error during call to suggestCharts:', error);\n",
              "      }\n",
              "      quickchartButtonEl.classList.remove('colab-df-spinner');\n",
              "      quickchartButtonEl.classList.add('colab-df-quickchart-complete');\n",
              "    }\n",
              "    (() => {\n",
              "      let quickchartButtonEl =\n",
              "        document.querySelector('#df-2809b3a2-2118-471f-ae73-6f89410a65a6 button');\n",
              "      quickchartButtonEl.style.display =\n",
              "        google.colab.kernel.accessAllowed ? 'block' : 'none';\n",
              "    })();\n",
              "  </script>\n",
              "</div>\n",
              "\n",
              "  <div id=\"id_8099be9b-441a-4c51-a4aa-6794299be813\">\n",
              "    <style>\n",
              "      .colab-df-generate {\n",
              "        background-color: #E8F0FE;\n",
              "        border: none;\n",
              "        border-radius: 50%;\n",
              "        cursor: pointer;\n",
              "        display: none;\n",
              "        fill: #1967D2;\n",
              "        height: 32px;\n",
              "        padding: 0 0 0 0;\n",
              "        width: 32px;\n",
              "      }\n",
              "\n",
              "      .colab-df-generate:hover {\n",
              "        background-color: #E2EBFA;\n",
              "        box-shadow: 0px 1px 2px rgba(60, 64, 67, 0.3), 0px 1px 3px 1px rgba(60, 64, 67, 0.15);\n",
              "        fill: #174EA6;\n",
              "      }\n",
              "\n",
              "      [theme=dark] .colab-df-generate {\n",
              "        background-color: #3B4455;\n",
              "        fill: #D2E3FC;\n",
              "      }\n",
              "\n",
              "      [theme=dark] .colab-df-generate:hover {\n",
              "        background-color: #434B5C;\n",
              "        box-shadow: 0px 1px 3px 1px rgba(0, 0, 0, 0.15);\n",
              "        filter: drop-shadow(0px 1px 2px rgba(0, 0, 0, 0.3));\n",
              "        fill: #FFFFFF;\n",
              "      }\n",
              "    </style>\n",
              "    <button class=\"colab-df-generate\" onclick=\"generateWithVariable('df')\"\n",
              "            title=\"Generate code using this dataframe.\"\n",
              "            style=\"display:none;\">\n",
              "\n",
              "  <svg xmlns=\"http://www.w3.org/2000/svg\" height=\"24px\"viewBox=\"0 0 24 24\"\n",
              "       width=\"24px\">\n",
              "    <path d=\"M7,19H8.4L18.45,9,17,7.55,7,17.6ZM5,21V16.75L18.45,3.32a2,2,0,0,1,2.83,0l1.4,1.43a1.91,1.91,0,0,1,.58,1.4,1.91,1.91,0,0,1-.58,1.4L9.25,21ZM18.45,9,17,7.55Zm-12,3A5.31,5.31,0,0,0,4.9,8.1,5.31,5.31,0,0,0,1,6.5,5.31,5.31,0,0,0,4.9,4.9,5.31,5.31,0,0,0,6.5,1,5.31,5.31,0,0,0,8.1,4.9,5.31,5.31,0,0,0,12,6.5,5.46,5.46,0,0,0,6.5,12Z\"/>\n",
              "  </svg>\n",
              "    </button>\n",
              "    <script>\n",
              "      (() => {\n",
              "      const buttonEl =\n",
              "        document.querySelector('#id_8099be9b-441a-4c51-a4aa-6794299be813 button.colab-df-generate');\n",
              "      buttonEl.style.display =\n",
              "        google.colab.kernel.accessAllowed ? 'block' : 'none';\n",
              "\n",
              "      buttonEl.onclick = () => {\n",
              "        google.colab.notebook.generateWithVariable('df');\n",
              "      }\n",
              "      })();\n",
              "    </script>\n",
              "  </div>\n",
              "\n",
              "    </div>\n",
              "  </div>\n"
            ],
            "application/vnd.google.colaboratory.intrinsic+json": {
              "type": "dataframe",
              "variable_name": "df",
              "summary": "{\n  \"name\": \"df\",\n  \"rows\": 4815,\n  \"fields\": [\n    {\n      \"column\": \"id\",\n      \"properties\": {\n        \"dtype\": \"number\",\n        \"std\": 1390,\n        \"min\": 1,\n        \"max\": 4815,\n        \"num_unique_values\": 4815,\n        \"samples\": [\n          1993,\n          1838,\n          4354\n        ],\n        \"semantic_type\": \"\",\n        \"description\": \"\"\n      }\n    },\n    {\n      \"column\": \"date\",\n      \"properties\": {\n        \"dtype\": \"string\",\n        \"num_unique_values\": 4209,\n        \"samples\": [\n          \"12.02.1989\",\n          \"26.06.2016\",\n          \"19.03.1970\"\n        ],\n        \"semantic_type\": \"\",\n        \"description\": \"\"\n      }\n    },\n    {\n      \"column\": \"aircraft\",\n      \"properties\": {\n        \"dtype\": \"category\",\n        \"num_unique_values\": 304,\n        \"samples\": [\n          \"\\u0422\\u0443-124\",\n          \"\\u0422\\u0443-104\\u0411\",\n          \"\\u0418\\u043b-18\\u0413\\u0440\\u041c\"\n        ],\n        \"semantic_type\": \"\",\n        \"description\": \"\"\n      }\n    },\n    {\n      \"column\": \"registration_number\",\n      \"properties\": {\n        \"dtype\": \"string\",\n        \"num_unique_values\": 4585,\n        \"samples\": [\n          \"\\u0421\\u0421\\u0421\\u0420-66905\",\n          \"\\u0421\\u0421\\u0421\\u0420-\\u041b4510\",\n          \"\\u0421\\u0421\\u0421\\u0420-24201\"\n        ],\n        \"semantic_type\": \"\",\n        \"description\": \"\"\n      }\n    },\n    {\n      \"column\": \"country\",\n      \"properties\": {\n        \"dtype\": \"category\",\n        \"num_unique_values\": 76,\n        \"samples\": [\n          \"\\u0410\\u0444\\u0433\\u0430\\u043d\\u0438\\u0441\\u0442\\u0430\\u043d\",\n          \"\\u0423\\u0437\\u0431\\u0435\\u043a\\u0438\\u0441\\u0442\\u0430\\u043d\",\n          \"\\u0423\\u043a\\u0440\\u0430\\u0438\\u043d\\u0430\"\n        ],\n        \"semantic_type\": \"\",\n        \"description\": \"\"\n      }\n    },\n    {\n      \"column\": \"location\",\n      \"properties\": {\n        \"dtype\": \"string\",\n        \"num_unique_values\": 3998,\n        \"samples\": [\n          \"\\u041c\\u0430\\u0433\\u0430\\u0434\\u0430\\u043d\\u0441\\u043a\\u0430\\u044f \\u043e\\u0431\\u043b\\u0430\\u0441\\u0442\\u044c, \\u0440\\u0430\\u0439\\u043e\\u043d \\u0421\\u0435\\u0439\\u043c\\u0447\\u0430\\u043d\\u0430\",\n          \"\\u041c\\u043e\\u0441\\u043a\\u043e\\u0432\\u0441\\u043a\\u0430\\u044f \\u043e\\u0431\\u043b\\u0430\\u0441\\u0442\\u044c, \\u0440\\u0430\\u0439\\u043e\\u043d \\u0430/\\u0434 \\u041d\\u0430\\u0431\\u0435\\u0440\\u0435\\u0436\\u043d\\u0430\\u044f\",\n          \"\\u0423\\u0437\\u0431\\u0435\\u043a\\u0441\\u043a\\u0430\\u044f \\u0421\\u0421\\u0420, \\u0422\\u0430\\u0448\\u043a\\u0435\\u043d\\u0442\\u0441\\u043a\\u0430\\u044f \\u043e\\u0431\\u043b\\u0430\\u0441\\u0442\\u044c, \"\n        ],\n        \"semantic_type\": \"\",\n        \"description\": \"\"\n      }\n    },\n    {\n      \"column\": \"link\",\n      \"properties\": {\n        \"dtype\": \"string\",\n        \"num_unique_values\": 4815,\n        \"samples\": [\n          \"https://www.airdisaster.ru//database.php?id=1877\",\n          \"https://www.airdisaster.ru//database.php?id=1914\",\n          \"https://www.airdisaster.ru//database.php?id=4411\"\n        ],\n        \"semantic_type\": \"\",\n        \"description\": \"\"\n      }\n    }\n  ]\n}"
            }
          },
          "metadata": {},
          "execution_count": 20
        }
      ]
    },
    {
      "cell_type": "markdown",
      "source": [
        "# Метрики полноты данных"
      ],
      "metadata": {
        "id": "zexHGSbZvpLs"
      }
    },
    {
      "cell_type": "markdown",
      "source": [
        "Процент пропущенных значений"
      ],
      "metadata": {
        "id": "qDXrXCOQwQ0E"
      }
    },
    {
      "cell_type": "code",
      "source": [
        "res = (len(df.loc[(df['date'] == '-') | (df['registration_number'] == '-')]) / len(df)) * 100\n",
        "res"
      ],
      "metadata": {
        "colab": {
          "base_uri": "https://localhost:8080/"
        },
        "id": "N6ZHR9oUwJbe",
        "outputId": "c33fc80e-04c2-4448-938a-cfd987e415cc"
      },
      "execution_count": 21,
      "outputs": [
        {
          "output_type": "execute_result",
          "data": {
            "text/plain": [
              "2.1183800623052957"
            ]
          },
          "metadata": {},
          "execution_count": 21
        }
      ]
    },
    {
      "cell_type": "markdown",
      "source": [
        "Полнота"
      ],
      "metadata": {
        "id": "RYkLBkkYyuk-"
      }
    },
    {
      "cell_type": "code",
      "source": [
        "res = (len(df.loc[(df['date'] != '-') & (df['registration_number'] != '-')]) / len(df)) * 100\n",
        "res"
      ],
      "metadata": {
        "colab": {
          "base_uri": "https://localhost:8080/"
        },
        "id": "nWi9G8G2yzK8",
        "outputId": "4939d9e2-f407-449f-cae1-eccc224e7a03"
      },
      "execution_count": 22,
      "outputs": [
        {
          "output_type": "execute_result",
          "data": {
            "text/plain": [
              "97.88161993769471"
            ]
          },
          "metadata": {},
          "execution_count": 22
        }
      ]
    },
    {
      "cell_type": "markdown",
      "source": [
        "# Метрики точности данных"
      ],
      "metadata": {
        "id": "tVsbh2SKzXPs"
      }
    },
    {
      "cell_type": "markdown",
      "source": [
        "Число уникальных записей"
      ],
      "metadata": {
        "id": "fSFOPDEf0v5_"
      }
    },
    {
      "cell_type": "code",
      "source": [
        "unique_count = df['registration_number'].nunique()\n",
        "unique_count"
      ],
      "metadata": {
        "colab": {
          "base_uri": "https://localhost:8080/"
        },
        "id": "wMWLOZ1Wzepr",
        "outputId": "0db6e7f6-8071-443e-a69e-18ee8e0205f7"
      },
      "execution_count": 23,
      "outputs": [
        {
          "output_type": "execute_result",
          "data": {
            "text/plain": [
              "4585"
            ]
          },
          "metadata": {},
          "execution_count": 23
        }
      ]
    },
    {
      "cell_type": "markdown",
      "source": [
        "Всего записей"
      ],
      "metadata": {
        "id": "gu5vbQ280zJ3"
      }
    },
    {
      "cell_type": "code",
      "source": [
        "len(df)"
      ],
      "metadata": {
        "colab": {
          "base_uri": "https://localhost:8080/"
        },
        "id": "jOY5lEwo01f8",
        "outputId": "9c6455cd-f5b4-4c34-b1ee-ef7e512eda23"
      },
      "execution_count": 24,
      "outputs": [
        {
          "output_type": "execute_result",
          "data": {
            "text/plain": [
              "4815"
            ]
          },
          "metadata": {},
          "execution_count": 24
        }
      ]
    },
    {
      "cell_type": "markdown",
      "source": [
        "Число дубликатов"
      ],
      "metadata": {
        "id": "pbsc8Ufq0-A9"
      }
    },
    {
      "cell_type": "code",
      "source": [
        "res = len(df) - unique_count\n",
        "res"
      ],
      "metadata": {
        "colab": {
          "base_uri": "https://localhost:8080/"
        },
        "id": "WALOyCfF1ANn",
        "outputId": "992f5585-b963-40ce-bae2-f5e9c51579ae"
      },
      "execution_count": 25,
      "outputs": [
        {
          "output_type": "execute_result",
          "data": {
            "text/plain": [
              "230"
            ]
          },
          "metadata": {},
          "execution_count": 25
        }
      ]
    },
    {
      "cell_type": "markdown",
      "source": [
        "# EDA"
      ],
      "metadata": {
        "id": "DDvbJ0ba1ffM"
      }
    },
    {
      "cell_type": "code",
      "source": [
        "df = df.loc[df['date'] != '-']"
      ],
      "metadata": {
        "id": "JAMZnfQf7W46"
      },
      "execution_count": 26,
      "outputs": []
    },
    {
      "cell_type": "code",
      "source": [
        "df.info()"
      ],
      "metadata": {
        "colab": {
          "base_uri": "https://localhost:8080/"
        },
        "id": "2rhcJ2iD5xdp",
        "outputId": "e411a3d1-2de5-419e-f81b-0186ab65163a"
      },
      "execution_count": 27,
      "outputs": [
        {
          "output_type": "stream",
          "name": "stdout",
          "text": [
            "<class 'pandas.core.frame.DataFrame'>\n",
            "Index: 4810 entries, 0 to 4814\n",
            "Data columns (total 7 columns):\n",
            " #   Column               Non-Null Count  Dtype \n",
            "---  ------               --------------  ----- \n",
            " 0   id                   4810 non-null   int64 \n",
            " 1   date                 4810 non-null   object\n",
            " 2   aircraft             4810 non-null   object\n",
            " 3   registration_number  4810 non-null   object\n",
            " 4   country              4810 non-null   object\n",
            " 5   location             4810 non-null   object\n",
            " 6   link                 4810 non-null   object\n",
            "dtypes: int64(1), object(6)\n",
            "memory usage: 300.6+ KB\n"
          ]
        }
      ]
    },
    {
      "cell_type": "markdown",
      "source": [
        "Число инцидентов по типу ВС"
      ],
      "metadata": {
        "id": "yAY_a4Rp8yAA"
      }
    },
    {
      "cell_type": "code",
      "source": [
        "df['aircraft'].value_counts()"
      ],
      "metadata": {
        "colab": {
          "base_uri": "https://localhost:8080/",
          "height": 490
        },
        "id": "4P8Vf5g051Nr",
        "outputId": "c2f190d3-7a45-46f4-c177-68bba1beaae9"
      },
      "execution_count": 28,
      "outputs": [
        {
          "output_type": "execute_result",
          "data": {
            "text/plain": [
              "aircraft\n",
              "Ан-2              761\n",
              "Ми-2              440\n",
              "Ли-2              281\n",
              "Ми-8Т             197\n",
              "Ми-8              174\n",
              "                 ... \n",
              "L-410UVP            1\n",
              "Ил-114              1\n",
              "Ту-154С             1\n",
              "Ту-134ИК            1\n",
              "Dornier Merkur      1\n",
              "Name: count, Length: 304, dtype: int64"
            ],
            "text/html": [
              "<div>\n",
              "<style scoped>\n",
              "    .dataframe tbody tr th:only-of-type {\n",
              "        vertical-align: middle;\n",
              "    }\n",
              "\n",
              "    .dataframe tbody tr th {\n",
              "        vertical-align: top;\n",
              "    }\n",
              "\n",
              "    .dataframe thead th {\n",
              "        text-align: right;\n",
              "    }\n",
              "</style>\n",
              "<table border=\"1\" class=\"dataframe\">\n",
              "  <thead>\n",
              "    <tr style=\"text-align: right;\">\n",
              "      <th></th>\n",
              "      <th>count</th>\n",
              "    </tr>\n",
              "    <tr>\n",
              "      <th>aircraft</th>\n",
              "      <th></th>\n",
              "    </tr>\n",
              "  </thead>\n",
              "  <tbody>\n",
              "    <tr>\n",
              "      <th>Ан-2</th>\n",
              "      <td>761</td>\n",
              "    </tr>\n",
              "    <tr>\n",
              "      <th>Ми-2</th>\n",
              "      <td>440</td>\n",
              "    </tr>\n",
              "    <tr>\n",
              "      <th>Ли-2</th>\n",
              "      <td>281</td>\n",
              "    </tr>\n",
              "    <tr>\n",
              "      <th>Ми-8Т</th>\n",
              "      <td>197</td>\n",
              "    </tr>\n",
              "    <tr>\n",
              "      <th>Ми-8</th>\n",
              "      <td>174</td>\n",
              "    </tr>\n",
              "    <tr>\n",
              "      <th>...</th>\n",
              "      <td>...</td>\n",
              "    </tr>\n",
              "    <tr>\n",
              "      <th>L-410UVP</th>\n",
              "      <td>1</td>\n",
              "    </tr>\n",
              "    <tr>\n",
              "      <th>Ил-114</th>\n",
              "      <td>1</td>\n",
              "    </tr>\n",
              "    <tr>\n",
              "      <th>Ту-154С</th>\n",
              "      <td>1</td>\n",
              "    </tr>\n",
              "    <tr>\n",
              "      <th>Ту-134ИК</th>\n",
              "      <td>1</td>\n",
              "    </tr>\n",
              "    <tr>\n",
              "      <th>Dornier Merkur</th>\n",
              "      <td>1</td>\n",
              "    </tr>\n",
              "  </tbody>\n",
              "</table>\n",
              "<p>304 rows × 1 columns</p>\n",
              "</div><br><label><b>dtype:</b> int64</label>"
            ]
          },
          "metadata": {},
          "execution_count": 28
        }
      ]
    },
    {
      "cell_type": "code",
      "source": [
        "df['date'] = pd.to_datetime(df['date'])\n",
        "plt.figure(figsize=(12, 6))\n",
        "df['date'].dt.to_period('Y').value_counts().sort_index().plot(kind='bar')\n",
        "plt.title('Число инцидентов по годам')"
      ],
      "metadata": {
        "colab": {
          "base_uri": "https://localhost:8080/",
          "height": 767
        },
        "id": "fkQ8YT8k6IcM",
        "outputId": "4f775be3-f360-4abc-e0b8-48bafbf64324"
      },
      "execution_count": 29,
      "outputs": [
        {
          "output_type": "stream",
          "name": "stderr",
          "text": [
            "<ipython-input-29-d59ed3ee2908>:1: UserWarning: Parsing dates in %d.%m.%Y format when dayfirst=False (the default) was specified. Pass `dayfirst=True` or specify a format to silence this warning.\n",
            "  df['date'] = pd.to_datetime(df['date'])\n",
            "<ipython-input-29-d59ed3ee2908>:1: SettingWithCopyWarning: \n",
            "A value is trying to be set on a copy of a slice from a DataFrame.\n",
            "Try using .loc[row_indexer,col_indexer] = value instead\n",
            "\n",
            "See the caveats in the documentation: https://pandas.pydata.org/pandas-docs/stable/user_guide/indexing.html#returning-a-view-versus-a-copy\n",
            "  df['date'] = pd.to_datetime(df['date'])\n"
          ]
        },
        {
          "output_type": "execute_result",
          "data": {
            "text/plain": [
              "Text(0.5, 1.0, 'Число инцидентов по годам')"
            ]
          },
          "metadata": {},
          "execution_count": 29
        },
        {
          "output_type": "display_data",
          "data": {
            "text/plain": [
              "<Figure size 1200x600 with 1 Axes>"
            ],
            "image/png": "[encoded data removed]"
          },
          "metadata": {}
        }
      ]
    },
    {
      "cell_type": "markdown",
      "source": [
        "Всего инцидентов"
      ],
      "metadata": {
        "id": "d2bDsi6w8nsR"
      }
    },
    {
      "cell_type": "code",
      "source": [
        "len(df)"
      ],
      "metadata": {
        "colab": {
          "base_uri": "https://localhost:8080/"
        },
        "id": "_XERGtlX8mQ5",
        "outputId": "35d72bbb-cfbc-4458-d773-80de9495a34d"
      },
      "execution_count": 30,
      "outputs": [
        {
          "output_type": "execute_result",
          "data": {
            "text/plain": [
              "4810"
            ]
          },
          "metadata": {},
          "execution_count": 30
        }
      ]
    },
    {
      "cell_type": "code",
      "source": [],
      "metadata": {
        "id": "Nr52Mef6vs9r"
      },
      "execution_count": 30,
      "outputs": []
    }
  ]
}